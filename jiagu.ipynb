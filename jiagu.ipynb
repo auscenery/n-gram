{
 "cells": [
  {
   "cell_type": "code",
   "execution_count": 1,
   "metadata": {},
   "outputs": [],
   "source": [
    "import jiagu"
   ]
  },
  {
   "cell_type": "code",
   "execution_count": 3,
   "metadata": {},
   "outputs": [],
   "source": [
    "jiagu.init() # 可手动初始化，也可以动态初始化"
   ]
  },
  {
   "cell_type": "code",
   "execution_count": 30,
   "metadata": {},
   "outputs": [
    {
     "name": "stdout",
     "output_type": "stream",
     "text": [
      "CPU times: user 3 µs, sys: 0 ns, total: 3 µs\n",
      "Wall time: 6.91 µs\n",
      "['\\n', '毫无疑问', '，', '本届', '世界杯', '到', '目前', '为止', '最大', '的', '黑马', '就是', '哥斯达黎加', '了', '。', '小组', '赛', '前', '两轮', '，', '这', '支', '“', '平民', '化', '”', '的', '球队', '以', '一种', '绝对', '无人能敌', '的', '姿态', '先后', '战胜', '了', '乌拉圭', '和', '意大利', '，', '还', '顺带', '让', '英格兰', '提前', '“', '回家', '”', '，', '他们', '的', '表现', '绝对', '是', '世界杯', '上', '的', '“', '神', '迹', '”', '。', '\\n', '本届', '世界杯', '的', 'D', '组', '被', '公认', '是', '“', '死亡', '之', '组', '”', '。', '意大利', '、', '英格兰', '、', '乌拉圭', ',', '不仅', '都', '夺得', '过', '世界杯', ',', '而且', '也', '都', '具备', '冲击', '四', '强', '甚至', '获得', '更', '好', '成绩', '的', '实力', '，', '哥斯达黎加', '“', '陪', '太子', '读书', '”', '的', '命运', '似乎', '早已', '注定', '。', '然而', '，', '两轮', '比赛', '却', '连续', '出现', '“', '意外', '”', '，', '以致', '实力', '最', '弱', '的', '哥斯达黎加', '提前', '出线', '。', '最后', '一', '轮', '，', '哥斯达黎加', '要', '对阵', '将要', '踏上', '回程', '的', '英格兰', '，', '而', '意大利', '和', '乌拉圭', '将要', '为', '本', '组', '最后', '一个', '出线', '名额', '进行', '“', '殊死', '一', '搏', '”', '。', '\\n', '对于', '球迷', '来说', '，', '最为', '关注', '的', '当', '属', '意大利', '和', '乌拉圭', '的', '“', '生死', '之', '战', '”', '了', '，', '爱', '思考', '人生', '的', '巴', '神', '也', '将', '与', '如', '“', '天兵', '下凡', '”', '的', '苏', '神', '进行', '一番', '“', '神级', '”', '的', '较量', '。', '作为', '各自', '球队', '的', '当', '家', '前锋', '，', '这', '两', '个', '被', '球迷', '们', '称为', '“', '神', '”', '的', '球员', '的', '表现', '将', '决定', '自己', '的', '球队', '是', '留下', '还是', '回家', '。', '\\n', '在', '因', '伤', '错过', '首场', '比赛', '之后', '，', '苏亚雷斯', '在', '第二场', '强势', '归来', '，', '不仅', '梅开二度', '，', '也', '为', '乌拉圭', '带来', '了', '宝贵', '的', '3分', '；', '而', '巴洛特', '利', '世界杯', '首战', '发挥', '出色', '，', '为', '意大利', '带来', '了', '开门', '红', '；', '两', '人', '的', '精彩', '表现', '为', '全世界', '球迷', '带来', '了', '视觉', '上', '的', '享受', '，', '可惜', '的', '是', '小组', '赛', '结束', '后', '他们', '只有', '一', '个', '人', '能', '继续', '留', '在', '世界杯', '赛场', '上', '。', '是', '苏', '神', '留下', '？', '还是', '巴神', '继', '2012', '欧洲', '杯', '之后', '继续', '演绎', '神话', '？', '\\n', '意大利', '原本', '出线', '形势', '一片', '大好', '，', '首轮', '战胜', '英格兰', '让', '所有', '人', '都', '觉得', '他们', '小组', '出线', '已', '成', '定局', '。', '但', '第二轮', '，', '在', '主力', '门将', '布', '冯', '回归', '，', '球队', '攻守', '更加', '平衡', '的', '情况', '下', '，', '意大利', '却', '再次', '“', '惯性', '”', '地', '出现', '了', '第二轮', '疲软', '的', '情况', '，', '被', '三军', '用命', '的', '哥斯达黎加人', '打入', '一', '球', '，', '也', '将', '自己', '逼到', '了', '悬崖', '边上', '。', '目前', '和', '乌拉圭', '同', '积', '3分', '的', '意大利', '凭借', '净', '胜', '球', '优势', '暂', '列', 'D', '组', '第', '2', '，', '本', '轮', '和', '乌拉圭', '直接', '对话', '，', '意大利', '只要', '打', '平', '就', '可以', '出线', '。', '\\n', '相信', '乌拉圭', '也', '不会', '让', '意大利', '轻易', '地', '过关', '。', '通过', '前', '两场', '比赛', '，', '不', '难', '看出', '此前', '意大利', '赖以', '成名', '的', '“', '钢筋混凝土', '”', '防线', '已经', '不', '在', '，', '面对', '鲁尼', '、', '坎贝尔', '等', '前锋', '也', '一度', '手忙脚乱', '，', '如今', '要', '面对', '由', '苏亚雷斯', '、', '卡瓦尼', '等', '超一流', '球员', '组成', '的', '攻击', '阵', '，', '如果', '没有', '拿', '出', '同样', '的', '水平', '，', '恐怕', '意大利', '就要', '和', '西班牙', '、', '英格兰', '等', '欧洲', '老乡', '一起', '回家', '了', '。', '\\n', '本', '组', '的', '另', '一', '场', '比赛', '，', '将', '是', '考验', '哥斯达黎加队', '“', '黑马', '本色', '”', '以及', '英格兰', '能否', '挽回', '颜面', '的', '“', '荣誉', '之', '战', '”', '了', '。', '尽管', '已经', '小组', '出线', '，', '但', '哥斯达黎加', '若要', '在', '世界杯', '上', '走', '得', '更', '远', '，', '力争', '小组', '第一', '以', '避开', 'Ｃ', '组', '可能', '第一', '的', '哥伦比亚', '是', '当务之急', '，', '而', '他们', '打', '平', '即可', '确保', '自己', '的', '小组', '第一', '身份', '。', '而', '“', '三狮军', '团', '”', '英格兰队', '在', '本届', '杯赛', '已经', '颜面', '丧尽', '，', '预计', '他们', '本', '场', '比赛', '将', '以', '锻炼', '新人', '为主', '，', '为', '将来', '积累', '些', '经验', '，', '但', '这', '并不', '代表', '了', '他们', '将', '放弃', '比赛', '，', '相信', '他们', '也', '希望', '通过', '战胜', '“', '黑马', '”', '来', '为', '自己', '正名', '。', '\\n\\n']\n"
     ]
    }
   ],
   "source": [
    "%time\n",
    "text = \"\"\"\n",
    "毫无疑问，本届世界杯到目前为止最大的黑马就是哥斯达黎加了。小组赛前两轮，这支“平民化”的球队以一种绝对无人能敌的姿态先后战胜了乌拉圭和意大利，还顺带让英格兰提前“回家”，他们的表现绝对是世界杯上的“神迹”。\\n本届世界杯的D组被公认是“死亡之组”。意大利、英格兰、乌拉圭,不仅都夺得过世界杯,而且也都具备冲击四强甚至获得更好成绩的实力，哥斯达黎加“陪太子读书”的命运似乎早已注定。然而，两轮比赛却连续出现“意外”，以致实力最弱的哥斯达黎加提前出线。最后一轮，哥斯达黎加要对阵将要踏上回程的英格兰，而意大利和乌拉圭将要为本组最后一个出线名额进行“殊死一搏”。\\n对于球迷来说，最为关注的当属意大利和乌拉圭的“生死之战”了，爱思考人生的巴神也将与如“天兵下凡”的苏神进行一番“神级”的较量。作为各自球队的当家前锋，这两个被球迷们称为“神”的球员的表现将决定自己的球队是留下还是回家。\\n在因伤错过首场比赛之后，苏亚雷斯在第二场强势归来，不仅梅开二度，也为乌拉圭带来了宝贵的3分；而巴洛特利世界杯首战发挥出色，为意大利带来了开门红；两人的精彩表现为全世界球迷带来了视觉上的享受，可惜的是小组赛结束后他们只有一个人能继续留在世界杯赛场上。是苏神留下？还是巴神继2012欧洲杯之后继续演绎神话？\\n意大利原本出线形势一片大好，首轮战胜英格兰让所有人都觉得他们小组出线已成定局。但第二轮，在主力门将布冯回归，球队攻守更加平衡的情况下，意大利却再次“惯性”地出现了第二轮疲软的情况，被三军用命的哥斯达黎加人打入一球，也将自己逼到了悬崖边上。目前和乌拉圭同积3分的意大利凭借净胜球优势暂列D组第2，本轮和乌拉圭直接对话，意大利只要打平就可以出线。\\n相信乌拉圭也不会让意大利轻易地过关。通过前两场比赛，不难看出此前意大利赖以成名的“钢筋混凝土”防线已经不在，面对鲁尼、坎贝尔等前锋也一度手忙脚乱，如今要面对由苏亚雷斯、卡瓦尼等超一流球员组成的攻击阵，如果没有拿出同样的水平，恐怕意大利就要和西班牙、英格兰等欧洲老乡一起回家了。\\n本组的另一场比赛，将是考验哥斯达黎加队“黑马本色”以及英格兰能否挽回颜面的“荣誉之战”了。尽管已经小组出线，但哥斯达黎加若要在世界杯上走得更远，力争小组第一以避开Ｃ组可能第一的哥伦比亚是当务之急，而他们打平即可确保自己的小组第一身份。而“三狮军团”英格兰队在本届杯赛已经颜面丧尽，预计他们本场比赛将以锻炼新人为主，为将来积累些经验，但这并不代表了他们将放弃比赛，相信他们也希望通过战胜“黑马”来为自己正名。\\n\n",
    "\"\"\"\n",
    "words = jiagu.seg(text) # 分词\n",
    "print(words)"
   ]
  },
  {
   "cell_type": "code",
   "execution_count": 36,
   "metadata": {},
   "outputs": [
    {
     "name": "stdout",
     "output_type": "stream",
     "text": [
      "['毫无疑问，本届世界杯到目前为止最大的黑马就是哥斯达黎加了。',\n",
      " '小组赛前两轮，这支“平民化”的球队以一种绝对无人能敌的姿态先后战胜了乌拉圭和意大利，还顺带让英格兰提前“回家”，他们的表现绝对是世界杯上的“神迹”。',\n",
      " '本届世界杯的D组被公认是“死亡之组”。',\n",
      " '意大利、英格兰、乌拉圭,不仅都夺得过世界杯,而且也都具备冲击四强甚至获得更好成绩的实力，哥斯达黎加“陪太子读书”的命运似乎早已注定。',\n",
      " '然而，两轮比赛却连续出现“意外”，以致实力最弱的哥斯达黎加提前出线。',\n",
      " '最后一轮，哥斯达黎加要对阵将要踏上回程的英格兰，而意大利和乌拉圭将要为本组最后一个出线名额进行“殊死一搏”。',\n",
      " '对于球迷来说，最为关注的当属意大利和乌拉圭的“生死之战”了，爱思考人生的巴神也将与如“天兵下凡”的苏神进行一番“神级”的较量。',\n",
      " '作为各自球队的当家前锋，这两个被球迷们称为“神”的球员的表现将决定自己的球队是留下还是回家。',\n",
      " '在因伤错过首场比赛之后，苏亚雷斯在第二场强势归来，不仅梅开二度，也为乌拉圭带来了宝贵的3分；而巴洛特利世界杯首战发挥出色，为意大利带来了开门红；两人的精彩表现为全世界球迷带来了视觉上的享受，可惜的是小组赛结束后他们只有一个人能继续留在世界杯赛场上。',\n",
      " '是苏神留下？',\n",
      " '还是巴神继2012欧洲杯之后继续演绎神话？',\n",
      " '意大利原本出线形势一片大好，首轮战胜英格兰让所有人都觉得他们小组出线已成定局。',\n",
      " '但第二轮，在主力门将布冯回归，球队攻守更加平衡的情况下，意大利却再次“惯性”地出现了第二轮疲软的情况，被三军用命的哥斯达黎加人打入一球，也将自己逼到了悬崖边上。',\n",
      " '目前和乌拉圭同积3分的意大利凭借净胜球优势暂列D组第2，本轮和乌拉圭直接对话，意大利只要打平就可以出线。',\n",
      " '相信乌拉圭也不会让意大利轻易地过关。',\n",
      " '通过前两场比赛，不难看出此前意大利赖以成名的“钢筋混凝土”防线已经不在，面对鲁尼、坎贝尔等前锋也一度手忙脚乱，如今要面对由苏亚雷斯、卡瓦尼等超一流球员组成的攻击阵，如果没有拿出同样的水平，恐怕意大利就要和西班牙、英格兰等欧洲老乡一起回家了。',\n",
      " '本组的另一场比赛，将是考验哥斯达黎加队“黑马本色”以及英格兰能否挽回颜面的“荣誉之战”了。',\n",
      " '尽管已经小组出线，但哥斯达黎加若要在世界杯上走得更远，力争小组第一以避开Ｃ组可能第一的哥伦比亚是当务之急，而他们打平即可确保自己的小组第一身份。',\n",
      " '而“三狮军团”英格兰队在本届杯赛已经颜面丧尽，预计他们本场比赛将以锻炼新人为主，为将来积累些经验，但这并不代表了他们将放弃比赛，相信他们也希望通过战胜“黑马”来为自己正名。']\n",
      "\n",
      "毫无疑问，本届世界杯到目前为止最大的黑马就是哥斯达黎加了。小组赛前两轮，这支“平民化”的球队以一种绝对无人能敌的姿态先后战胜了乌拉圭和意大利，还顺带让英格兰提前“回家”，他们的表现绝对是世界杯上的“神迹”。\n",
      "本届世界杯的D组被公认是“死亡之组”。意大利、英格兰、乌拉圭,不仅都夺得过世界杯,而且也都具备冲击四强甚至获得更好成绩的实力，哥斯达黎加“陪太子读书”的命运似乎早已注定。然而，两轮比赛却连续出现“意外”，以致实力最弱的哥斯达黎加提前出线。最后一轮，哥斯达黎加要对阵将要踏上回程的英格兰，而意大利和乌拉圭将要为本组最后一个出线名额进行“殊死一搏”。\n",
      "对于球迷来说，最为关注的当属意大利和乌拉圭的“生死之战”了，爱思考人生的巴神也将与如“天兵下凡”的苏神进行一番“神级”的较量。作为各自球队的当家前锋，这两个被球迷们称为“神”的球员的表现将决定自己的球队是留下还是回家。\n",
      "在因伤错过首场比赛之后，苏亚雷斯在第二场强势归来，不仅梅开二度，也为乌拉圭带来了宝贵的3分；而巴洛特利世界杯首战发挥出色，为意大利带来了开门红；两人的精彩表现为全世界球迷带来了视觉上的享受，可惜的是小组赛结束后他们只有一个人能继续留在世界杯赛场上。是苏神留下？还是巴神继2012欧洲杯之后继续演绎神话？\n",
      "意大利原本出线形势一片大好，首轮战胜英格兰让所有人都觉得他们小组出线已成定局。但第二轮，在主力门将布冯回归，球队攻守更加平衡的情况下，意大利却再次“惯性”地出现了第二轮疲软的情况，被三军用命的哥斯达黎加人打入一球，也将自己逼到了悬崖边上。目前和乌拉圭同积3分的意大利凭借净胜球优势暂列D组第2，本轮和乌拉圭直接对话，意大利只要打平就可以出线。\n",
      "相信乌拉圭也不会让意大利轻易地过关。通过前两场比赛，不难看出此前意大利赖以成名的“钢筋混凝土”防线已经不在，面对鲁尼、坎贝尔等前锋也一度手忙脚乱，如今要面对由苏亚雷斯、卡瓦尼等超一流球员组成的攻击阵，如果没有拿出同样的水平，恐怕意大利就要和西班牙、英格兰等欧洲老乡一起回家了。\n",
      "本组的另一场比赛，将是考验哥斯达黎加队“黑马本色”以及英格兰能否挽回颜面的“荣誉之战”了。尽管已经小组出线，但哥斯达黎加若要在世界杯上走得更远，力争小组第一以避开Ｃ组可能第一的哥伦比亚是当务之急，而他们打平即可确保自己的小组第一身份。而“三狮军团”英格兰队在本届杯赛已经颜面丧尽，预计他们本场比赛将以锻炼新人为主，为将来积累些经验，但这并不代表了他们将放弃比赛，相信他们也希望通过战胜“黑马”来为自己正名。\n",
      "\n",
      "\n"
     ]
    }
   ],
   "source": [
    "import re\n",
    "\n",
    "def regex_test(article: str):\n",
    "    # pattern = re.compile(r\".*?[。！？\\(…\\{\\2\\}\\)][”’》）]?\")\n",
    "    # pattern = re.compile(r\"(.*?。[”’》）]?)|(.*?！[”’》）]?)|(.*?？[”’》）]?)|(.*?…{1,2}[”’》）]?)\")\n",
    "    pattern = re.compile(r\"[^!?。！？…]*\\?[”’》）]?|[^!?。！？…]*![”’》）]?|[^!?。！？…]*。[”’》）]?|[^!?。！？…]*！[”’》）]?|[^!?。！？…]*？[”’》）]?|[^!?。！？…]*…{1,2}[”’》）]?\")\n",
    "    sentences = []\n",
    "    paragraphs = [paragraph for paragraph in article.split('\\n') if len(paragraph) > 0]\n",
    "    for paragraph in paragraphs:\n",
    "        paragraph_sentences = []\n",
    "        double_quote_count = 0\n",
    "        single_quote_count = 0\n",
    "        book_title_count = 0\n",
    "        parenthesis_count = 0\n",
    "        temp_sentences = re.findall(pattern, paragraph.strip())\n",
    "        for sentence in temp_sentences:\n",
    "            paragraph_sentences.append(sentence)\n",
    "            left_double_quotes = re.findall(r'“', sentence)\n",
    "            right_double_quotes = re.findall(r'”', sentence)\n",
    "            left_single_quotes = re.findall(r'‘', sentence)\n",
    "            right_single_quotes = re.findall(r'’', sentence)\n",
    "            left_book_title = re.findall(r'《', sentence)\n",
    "            right_book_title = re.findall(r'》', sentence)\n",
    "            left_parenthesis = re.findall(r'\\(', sentence)\n",
    "            right_parenthesis = re.findall(r'\\)', sentence)\n",
    "            double_quote_count = double_quote_count + len(left_double_quotes) - len(right_double_quotes)\n",
    "            single_quote_count = single_quote_count + len(left_single_quotes) - len(right_single_quotes)\n",
    "            book_title_count = book_title_count + len(left_book_title) - len(right_book_title)\n",
    "            parenthesis_count = parenthesis_count + len(left_parenthesis) - len(right_parenthesis)\n",
    "            if double_quote_count == 0 and single_quote_count == 0 and book_title_count == 0 and parenthesis_count == 0:\n",
    "                sentences.append(''.join(paragraph_sentences))\n",
    "                paragraph_sentences = []\n",
    "    return sentences\n",
    "from pprint import pprint\n",
    "pprint(regex_test(text))\n",
    "print(text)"
   ]
  },
  {
   "cell_type": "code",
   "execution_count": 12,
   "metadata": {},
   "outputs": [
    {
     "name": "stdout",
     "output_type": "stream",
     "text": [
      "['ns']\n"
     ]
    }
   ],
   "source": [
    "pos = jiagu.pos(words) # 词性标注\n",
    "print(pos)"
   ]
  },
  {
   "cell_type": "code",
   "execution_count": 13,
   "metadata": {},
   "outputs": [
    {
     "name": "stdout",
     "output_type": "stream",
     "text": [
      "['B-LOC', 'I-LOC', 'I-LOC', 'I-LOC', 'I-LOC', 'I-LOC', 'I-LOC']\n"
     ]
    }
   ],
   "source": [
    "ner = jiagu.ner(text) # 命名实体识别\n",
    "print(ner)"
   ]
  },
  {
   "cell_type": "code",
   "execution_count": 14,
   "metadata": {},
   "outputs": [
    {
     "name": "stdout",
     "output_type": "stream",
     "text": [
      "['汉服', '和', '服装']\n",
      "[['汉服', '和', '服装'], ['汉服', '和', '服装'], ['汉服', '和', '服装']]\n",
      "['汉服', '和', '服装']\n"
     ]
    }
   ],
   "source": [
    "text = '汉服和服装'\n",
    "\n",
    "words = jiagu.seg(text) # 默认分词\n",
    "print(words)\n",
    "\n",
    "words = jiagu.seg([text, text, text], input='batch') # 批量分词，加快速度。\n",
    "print(words)\n",
    "\n",
    "words = jiagu.seg(text, model='mmseg') # 使用mmseg算法进行分词\n",
    "print(list(words))"
   ]
  },
  {
   "cell_type": "code",
   "execution_count": 19,
   "metadata": {},
   "outputs": [
    {
     "name": "stdout",
     "output_type": "stream",
     "text": [
      "[['吻别', '歌手', '张学友']]\n"
     ]
    }
   ],
   "source": [
    "# 吻别是由张学友演唱的一首歌曲。\n",
    "# 苏州大学（Soochow University），简称“苏大”，坐落于历史文化名城苏州。\n",
    "# 《盗墓笔记》是2014年欢瑞世纪影视传媒股份有限公司出品的一部网络季播剧，改编自南派三叔所著的同名小说，由郑保瑞和罗永昌联合导演，李易峰、杨洋、唐嫣、刘天佐、张智尧、魏巍等主演。\n",
    "\n",
    "text = '吻别是由张学友演唱的一首歌曲。'\n",
    "knowledge = jiagu.knowledge(text)\n",
    "print(knowledge)"
   ]
  },
  {
   "cell_type": "code",
   "execution_count": 24,
   "metadata": {},
   "outputs": [
    {
     "name": "stdout",
     "output_type": "stream",
     "text": [
      "['造林', '工程', '绿化', '数据', '贡献', '气候']\n"
     ]
    }
   ],
   "source": [
    "text = '''\n",
    "该研究主持者之一、波士顿大学地球与环境科学系博士陈池（音）表示，“尽管中国和印度国土面积仅占全球陆地的9%，但两国为这一绿化过程贡献超过三分之一。考虑到人口过多的国家一般存在对土地过度利用的问题，这个发现令人吃惊。”\n",
    "NASA埃姆斯研究中心的科学家拉玛·内曼尼（Rama Nemani）说，“这一长期数据能让我们深入分析地表绿化背后的影响因素。我们一开始以为，植被增加是由于更多二氧化碳排放，导致气候更加温暖、潮湿，适宜生长。”\n",
    "“MODIS的数据让我们能在非常小的尺度上理解这一现象，我们发现人类活动也作出了贡献。”\n",
    "NASA文章介绍，在中国为全球绿化进程做出的贡献中，有42%来源于植树造林工程，对于减少土壤侵蚀、空气污染与气候变化发挥了作用。\n",
    "据观察者网过往报道，2017年我国全国共完成造林736.2万公顷、森林抚育830.2万公顷。其中，天然林资源保护工程完成造林26万公顷，退耕还林工程完成造林91.2万公顷。京津风沙源治理工程完成造林18.5万公顷。三北及长江流域等重点防护林体系工程完成造林99.1万公顷。完成国家储备林建设任务68万公顷。\n",
    "'''\t\t\t\t\n",
    "\n",
    "keywords = jiagu.keywords(text, 6) # 关键词\n",
    "print(keywords)"
   ]
  },
  {
   "cell_type": "code",
   "execution_count": 25,
   "metadata": {},
   "outputs": [
    {
     "name": "stdout",
     "output_type": "stream",
     "text": [
      "['”NASA文章介绍，在中国为全球绿化进程做出的贡献中，有42%来源于植树造林工程，对于减少土壤侵蚀、空气污染与气候变化发挥了作用。', '其中，天然林资源保护工程完成造林26万公顷，退耕还林工程完成造林91.2万公顷。', '京津风沙源治理工程完成造林18.5万公顷。']\n"
     ]
    }
   ],
   "source": [
    "summarize = jiagu.summarize(text, 3) # 摘要\n",
    "print(summarize)"
   ]
  },
  {
   "cell_type": "code",
   "execution_count": 38,
   "metadata": {},
   "outputs": [],
   "source": [
    "import os\n",
    "import logging\n",
    "import json\n",
    "import shutil\n",
    "\n",
    "log = logging.getLogger(__name__)\n",
    "\n",
    "\n",
    "def exist_file(file_path):\n",
    "    try:\n",
    "        return True if os.path.exists(file_path) else False\n",
    "    except Exception as e:\n",
    "        log.error(\"判断文件:{} 发生异常, 原因为:{}\".format(file_path, e))\n",
    "    return False\n",
    "\n",
    "\n",
    "def get_dir_files(path):\n",
    "    l = os.listdir(path)\n",
    "    if not path.endswith('/'):\n",
    "        path += '/'\n",
    "    # 去掉隐藏文件\n",
    "    return [path + file for file in l if not file.startswith('.')]\n",
    "\n",
    "\n",
    "def get_files_recursive(path, files=[]):\n",
    "    # 得到所有的文件,排除目录,如果是目录,就递归处理\n",
    "    file_dirs = get_dir_files(path)\n",
    "    for fd in file_dirs:\n",
    "        if os.path.isdir(fd):\n",
    "            get_files_recursive(fd, files)\n",
    "        else:\n",
    "            files.append(fd)\n",
    "    return list(set(files))\n",
    "\n",
    "path = \"/home/liangchuanjian/tmp/lm_study/data.in/people\"\n",
    "file_lists = get_files_recursive(path)"
   ]
  },
  {
   "cell_type": "code",
   "execution_count": 42,
   "metadata": {},
   "outputs": [],
   "source": [
    "file_contents = [open(file, 'r', encoding=\"utf-8\").readlines() for file in file_lists]"
   ]
  },
  {
   "cell_type": "code",
   "execution_count": 49,
   "metadata": {},
   "outputs": [],
   "source": [
    "import json\n",
    "bodys = [ json.loads(body.strip(), encoding=\"utf-8\") for contents in file_contents for body in contents if body.strip()]"
   ]
  },
  {
   "cell_type": "code",
   "execution_count": 50,
   "metadata": {},
   "outputs": [
    {
     "data": {
      "text/plain": [
       "1000000"
      ]
     },
     "execution_count": 50,
     "metadata": {},
     "output_type": "execute_result"
    }
   ],
   "source": [
    "len(bodys)"
   ]
  },
  {
   "cell_type": "code",
   "execution_count": 52,
   "metadata": {},
   "outputs": [],
   "source": [
    "body_lists = [body['body'] for body in bodys]"
   ]
  },
  {
   "cell_type": "code",
   "execution_count": 53,
   "metadata": {},
   "outputs": [
    {
     "data": {
      "text/plain": [
       "1000000"
      ]
     },
     "execution_count": 53,
     "metadata": {},
     "output_type": "execute_result"
    }
   ],
   "source": [
    "len(body_lists)"
   ]
  },
  {
   "cell_type": "code",
   "execution_count": 60,
   "metadata": {},
   "outputs": [],
   "source": [
    "sentences = []\n",
    "for body in body_lists:\n",
    "    l = regex_test(body)\n",
    "    if l:\n",
    "        sentences.extend(l)"
   ]
  },
  {
   "cell_type": "code",
   "execution_count": 61,
   "metadata": {},
   "outputs": [
    {
     "data": {
      "text/plain": [
       "13430507"
      ]
     },
     "execution_count": 61,
     "metadata": {},
     "output_type": "execute_result"
    }
   ],
   "source": [
    "len(sentences)"
   ]
  },
  {
   "cell_type": "code",
   "execution_count": 62,
   "metadata": {},
   "outputs": [
    {
     "data": {
      "text/plain": [
       "['说起这次改造的人民公园人防工程改造项目，相信很多上了年纪的达城市民不会陌生。',\n",
       " '“记得在上世纪七八十年代，很多市民带着小孩到里面去玩过。”',\n",
       " '家住公园附近的市民刘先生说，在他小时候，每到夏天，父亲都会带着他去防空洞里玩，里面非常凉爽。',\n",
       " '“南城梧桐梁人防工程年年向市民免费开放。”',\n",
       " '市人防办一负责人告诉记者，随着城市建设的变迁，人民公园人防工程空间狭小，加之年久失修，部分地方积水、积淤情况严重，还出现了渗漏和通风竖井被破坏等现象，部分出入口处也被占用，无法满足市民夏季纳凉的需要。',\n",
       " '“根据全省人防工作会议精神，为抓好‘凉风送爽’工程的落实，我们将督促施工单位，在保证质量的前提下，加快进度，尽早向市民免费开放。”',\n",
       " '人防办一负责人介绍，为此他们计划投资109万元，全面改造人民公园人防工程，除了对内部积水和淤泥进行清理外，还将对原来的条石结构进行加固、简装等，同时还将新安装给排风设备、照明系统和消防系统。',\n",
       " '预计整个工期在3个月（5月至8月）左右，经过改造后的人民公园人防工程总面积达800余平方米，完工后能满足不少市民夏季纳凉。',\n",
       " '“炎炎夏日，到凉爽的防空洞内去避暑，将成为今后达城市民的夏季休闲方式之一。”',\n",
       " '昨日，记者从市人防办获悉，位于人民公园内人防工程改造项目已经通过审批，现已进入施工阶段。']"
      ]
     },
     "execution_count": 62,
     "metadata": {},
     "output_type": "execute_result"
    }
   ],
   "source": [
    "sentences[:10]"
   ]
  },
  {
   "cell_type": "code",
   "execution_count": 63,
   "metadata": {},
   "outputs": [
    {
     "data": {
      "text/plain": [
       "['一个公司股票的价格是由它今天和今后的盈利决定的。',\n",
       " '更准确的说法，是由买股票的人对公司今后盈利的预期决定的。',\n",
       " '减少了到中国的出口和在中国投资得到盈利的预期，便会把股票的价格降低。',\n",
       " '美国企业对今后盈利预期的变动和美国股票价格的变动有很多原因。',\n",
       " '上面说的只是中国经济的变动。',\n",
       " '当然美国内生的因素也会影响美国的股价。',\n",
       " '某天或某周股票价格变动的原因很多。',\n",
       " '股价下滑的另一个因素可能是美国联邦银行决定不再大量增加货币供应。',\n",
       " '经济活动变化常有多种原因。',\n",
       " '要把它们弄清楚是经济学家的挑战。']"
      ]
     },
     "execution_count": 63,
     "metadata": {},
     "output_type": "execute_result"
    }
   ],
   "source": [
    "sentences[-10:]"
   ]
  },
  {
   "cell_type": "code",
   "execution_count": 64,
   "metadata": {},
   "outputs": [
    {
     "data": {
      "text/plain": [
       "'要把它们弄清楚是经济学家的挑战。'"
      ]
     },
     "execution_count": 64,
     "metadata": {},
     "output_type": "execute_result"
    }
   ],
   "source": [
    "sentences[-1]"
   ]
  },
  {
   "cell_type": "code",
   "execution_count": 65,
   "metadata": {},
   "outputs": [
    {
     "data": {
      "text/plain": [
       "'/home/liangchuanjian/tmp/lm_study/data.in/people'"
      ]
     },
     "execution_count": 65,
     "metadata": {},
     "output_type": "execute_result"
    }
   ],
   "source": [
    "path"
   ]
  },
  {
   "cell_type": "code",
   "execution_count": 68,
   "metadata": {},
   "outputs": [],
   "source": [
    "file_path = \"/home/liangchuanjian/tmp/lm_study/data.in/people_sentences_1343万.txt\"\n",
    "with open(file_path, 'w+', encoding=\"utf-8\") as f:\n",
    "    f.write(\"\\n\".join(sentences))"
   ]
  },
  {
   "cell_type": "code",
   "execution_count": 69,
   "metadata": {},
   "outputs": [],
   "source": [
    "seg_sentences = [ jiagu.seg(e) for e in sentences]"
   ]
  },
  {
   "cell_type": "code",
   "execution_count": 72,
   "metadata": {},
   "outputs": [
    {
     "data": {
      "text/plain": [
       "13430507"
      ]
     },
     "execution_count": 72,
     "metadata": {},
     "output_type": "execute_result"
    }
   ],
   "source": [
    "len(seg_sentences)"
   ]
  },
  {
   "cell_type": "code",
   "execution_count": 83,
   "metadata": {},
   "outputs": [],
   "source": [
    "file_seg_path = \"/home/liangchuanjian/tmp/lm_study/data.in/character_level_people_sentences_1343万.txt\"\n",
    "batch_size = 1000000\n",
    "total = len(sentences)\n",
    "n = int(total / batch_size) + 1\n",
    "with open(file_seg_path, \"w+\", encoding=\"utf-8\") as f:\n",
    "    for i in range(n):\n",
    "        start = batch_size * i\n",
    "        end = min(batch_size * (i + 1), total)\n",
    "        if start >= total or start >= end:\n",
    "            break\n",
    "        segs = [\" \".join(list(e)) for e in sentences[start: end]]\n",
    "        s = \"\\n\".join([\" \".join(l) for l in segs]) + \"\\n\"\n",
    "        f.write(s)"
   ]
  },
  {
   "cell_type": "code",
   "execution_count": 77,
   "metadata": {},
   "outputs": [
    {
     "data": {
      "text/plain": [
       "'说 起 这次 改造 的 人民公园 人防 工程 改造 项目 ， 相信 很多 上 了 年纪 的 达 城 市民 不会 陌生 。\\n“ 记得 在 上 世纪 七 八十 年代 ， 很多 市民 带 着 小孩 到 里面 去 玩 过 。 ”\\n家 住 公园 附近 的 市民 刘 先生 说 ， 在 他 小时候 ， 每到 夏天 ， 父亲 都会 带 着 他 去 防空 洞里 玩 ， 里面 非常 凉爽 。\\n“ 南城梧桐梁 人防 工程 年年 向 市民 免费 开放 。 ”\\n市人防办 一 负责人 告诉 记者 ， 随着 城市 建设 的 变迁 ， 人民公园 人防 工程 空间 狭小 ， 加之 年 久 失修 ， 部分 地方 积水 、 积 淤 情况 严重 ， 还 出现 了 渗漏 和 通风 竖井 被 破坏 等 现象 ， 部分 出 入口处 也 被 占用 ， 无法 满足 市民 夏季 纳凉 的 需要 。\\n“ 根据 全省 人防 工作会议 精神 ， 为 抓好 ‘ 凉风 送 爽 ’ 工程 的 落实 ， 我们 将 督促 施工 单位 ， 在 保证 质量 的 前提 下 ， 加快 进度 ， 尽早 向 市民 免费 开放 。 ”\\n人防办 一 负责人 介绍 ， 为此 他们 计划 投资 109万元 ， 全面 改造 人民公园 人防 工程 ， 除了 对 内部 积水 和 淤泥 进行 清理 外 ， 还 将 对 原来 的 条石 结构 进行 加固 、 简装 等 ， 同时 还 将 新 安装 给 排风 设备 、 照明 系统 和 消防 系统 。\\n预计 整个 工期 在 3 个 月 （ 5 月 至 8 月 ） 左右 ， 经过 改造 后 的 人民公园 人防 工程 总面积 达 800 余 平方米 ， 完工 后 能 满足 不少 市民 夏季 纳凉 。\\n“ 炎炎 夏日 ， 到 凉爽 的 防空洞 内 去 避暑 ， 将 成为 今后 达 城 市民 的 夏季 休闲 方式 之一 。 ”\\n昨日 ， 记者 从 市人防办 获悉 ， 位于 人民公园 内 人防 工程 改造 项目 已经 通过 审批 ， 现 已 进入 施工 阶段 。\\n'"
      ]
     },
     "execution_count": 77,
     "metadata": {},
     "output_type": "execute_result"
    }
   ],
   "source": [
    "\"\\n\".join([\" \".join(e) for e in seg_sentences[:10]]) + \"\\n\""
   ]
  },
  {
   "cell_type": "code",
   "execution_count": 79,
   "metadata": {},
   "outputs": [
    {
     "data": {
      "text/plain": [
       "1"
      ]
     },
     "execution_count": 79,
     "metadata": {},
     "output_type": "execute_result"
    }
   ],
   "source": [
    "int(1.23)"
   ]
  },
  {
   "cell_type": "code",
   "execution_count": 81,
   "metadata": {},
   "outputs": [
    {
     "data": {
      "text/plain": [
       "['说起这次改造的人民公园人防工程改造项目，相信很多上了年纪的达城市民不会陌生。',\n",
       " '“记得在上世纪七八十年代，很多市民带着小孩到里面去玩过。”',\n",
       " '家住公园附近的市民刘先生说，在他小时候，每到夏天，父亲都会带着他去防空洞里玩，里面非常凉爽。',\n",
       " '“南城梧桐梁人防工程年年向市民免费开放。”',\n",
       " '市人防办一负责人告诉记者，随着城市建设的变迁，人民公园人防工程空间狭小，加之年久失修，部分地方积水、积淤情况严重，还出现了渗漏和通风竖井被破坏等现象，部分出入口处也被占用，无法满足市民夏季纳凉的需要。',\n",
       " '“根据全省人防工作会议精神，为抓好‘凉风送爽’工程的落实，我们将督促施工单位，在保证质量的前提下，加快进度，尽早向市民免费开放。”',\n",
       " '人防办一负责人介绍，为此他们计划投资109万元，全面改造人民公园人防工程，除了对内部积水和淤泥进行清理外，还将对原来的条石结构进行加固、简装等，同时还将新安装给排风设备、照明系统和消防系统。',\n",
       " '预计整个工期在3个月（5月至8月）左右，经过改造后的人民公园人防工程总面积达800余平方米，完工后能满足不少市民夏季纳凉。',\n",
       " '“炎炎夏日，到凉爽的防空洞内去避暑，将成为今后达城市民的夏季休闲方式之一。”',\n",
       " '昨日，记者从市人防办获悉，位于人民公园内人防工程改造项目已经通过审批，现已进入施工阶段。']"
      ]
     },
     "execution_count": 81,
     "metadata": {},
     "output_type": "execute_result"
    }
   ],
   "source": [
    "sentences[:10]"
   ]
  },
  {
   "cell_type": "code",
   "execution_count": 82,
   "metadata": {},
   "outputs": [
    {
     "data": {
      "text/plain": [
       "'h e l l o   w o r l d'"
      ]
     },
     "execution_count": 82,
     "metadata": {},
     "output_type": "execute_result"
    }
   ],
   "source": [
    "\" \".join(list(\"hello world\"))"
   ]
  },
  {
   "cell_type": "code",
   "execution_count": null,
   "metadata": {},
   "outputs": [],
   "source": []
  }
 ],
 "metadata": {
  "kernelspec": {
   "display_name": "Python 3",
   "language": "python",
   "name": "python3"
  },
  "language_info": {
   "codemirror_mode": {
    "name": "ipython",
    "version": 3
   },
   "file_extension": ".py",
   "mimetype": "text/x-python",
   "name": "python",
   "nbconvert_exporter": "python",
   "pygments_lexer": "ipython3",
   "version": "3.6.8"
  }
 },
 "nbformat": 4,
 "nbformat_minor": 2
}
