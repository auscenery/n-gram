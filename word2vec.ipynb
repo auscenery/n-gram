{
 "cells": [
  {
   "cell_type": "code",
   "execution_count": 1,
   "metadata": {},
   "outputs": [],
   "source": [
    "import gensim"
   ]
  },
  {
   "cell_type": "code",
   "execution_count": 4,
   "metadata": {},
   "outputs": [],
   "source": [
    "gensim.models.word2vec.Word2Vec??"
   ]
  },
  {
   "cell_type": "code",
   "execution_count": 9,
   "metadata": {},
   "outputs": [],
   "source": [
    "gensim.models.word2vec.LineSentence??"
   ]
  },
  {
   "cell_type": "code",
   "execution_count": 7,
   "metadata": {},
   "outputs": [],
   "source": [
    "from gensim.test.utils import datapath"
   ]
  },
  {
   "cell_type": "code",
   "execution_count": 8,
   "metadata": {},
   "outputs": [],
   "source": [
    "datapath??"
   ]
  },
  {
   "cell_type": "code",
   "execution_count": 10,
   "metadata": {},
   "outputs": [],
   "source": [
    "file_path = \"/home/liangchuanjian/tmp/lm_study/data.in/word_level_people_sentences_1343万_jiagu_segment.txt\""
   ]
  },
  {
   "cell_type": "code",
   "execution_count": 11,
   "metadata": {},
   "outputs": [],
   "source": [
    "from gensim.models import word2vec\n",
    "sentences = word2vec.LineSentence(datapath(file_path))"
   ]
  },
  {
   "cell_type": "code",
   "execution_count": 19,
   "metadata": {},
   "outputs": [],
   "source": [
    "sentences1 = word2vec.Text8Corpus(file_path)"
   ]
  },
  {
   "cell_type": "code",
   "execution_count": 23,
   "metadata": {},
   "outputs": [],
   "source": [
    "model = word2vec.Word2Vec(sentences1, workers=12, size=256, min_count=5, window=8, sg=1)"
   ]
  },
  {
   "cell_type": "code",
   "execution_count": 26,
   "metadata": {},
   "outputs": [],
   "source": [
    "model.save(\"/home/liangchuanjian/tmp/lm_study/data.out/model/people_20190906.model\")"
   ]
  },
  {
   "cell_type": "code",
   "execution_count": 27,
   "metadata": {},
   "outputs": [],
   "source": [
    "model1 = gensim.models.word2vec.Word2Vec.load(\"/home/liangchuanjian/tmp/lm_study/data.out/model/people_20190906.model\")"
   ]
  },
  {
   "cell_type": "code",
   "execution_count": 42,
   "metadata": {},
   "outputs": [
    {
     "data": {
      "text/plain": [
       "[('斐济正', 0.6472302675247192),\n",
       " ('古巴走社会主义', 0.6127118468284607),\n",
       " ('中国长期以来', 0.6055266857147217),\n",
       " ('扶持', 0.6046914458274841),\n",
       " ('白方办好孔子学院', 0.6012969017028809),\n",
       " ('普惠性财税', 0.597623348236084),\n",
       " ('大力', 0.5953903198242188),\n",
       " ('天水铁路电缆有限责任公司', 0.5941413044929504),\n",
       " ('兰白试验区', 0.5917446613311768),\n",
       " ('希望海关总署', 0.5915241241455078),\n",
       " ('临汾农信社', 0.584697961807251),\n",
       " ('港澳中小微企业', 0.5829640626907349),\n",
       " ('鼓励', 0.5827469229698181),\n",
       " ('扬发展', 0.5826244354248047),\n",
       " ('收储运', 0.5778026580810547),\n",
       " ('宁阳农商银行', 0.5730656385421753),\n",
       " ('创业经营场所', 0.5720415115356445),\n",
       " ('鼎力', 0.570631742477417),\n",
       " ('中国党', 0.5702683925628662),\n",
       " ('市长期以来', 0.5690253973007202)]"
      ]
     },
     "execution_count": 42,
     "metadata": {},
     "output_type": "execute_result"
    }
   ],
   "source": [
    "model1.wv.most_similar(positive=\"支持\", topn=20)"
   ]
  },
  {
   "cell_type": "code",
   "execution_count": 45,
   "metadata": {},
   "outputs": [
    {
     "data": {
      "text/plain": [
       "256"
      ]
     },
     "execution_count": 45,
     "metadata": {},
     "output_type": "execute_result"
    }
   ],
   "source": [
    "model1.wv['美丽'].shap"
   ]
  },
  {
   "cell_type": "code",
   "execution_count": null,
   "metadata": {},
   "outputs": [],
   "source": []
  }
 ],
 "metadata": {
  "kernelspec": {
   "display_name": "Python 3",
   "language": "python",
   "name": "python3"
  },
  "language_info": {
   "codemirror_mode": {
    "name": "ipython",
    "version": 3
   },
   "file_extension": ".py",
   "mimetype": "text/x-python",
   "name": "python",
   "nbconvert_exporter": "python",
   "pygments_lexer": "ipython3",
   "version": "3.6.8"
  }
 },
 "nbformat": 4,
 "nbformat_minor": 2
}
